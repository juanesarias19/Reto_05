{
  "nbformat": 4,
  "nbformat_minor": 0,
  "metadata": {
    "colab": {
      "provenance": []
    },
    "kernelspec": {
      "name": "python3",
      "display_name": "Python 3"
    },
    "language_info": {
      "name": "python"
    }
  },
  "cells": [
    {
      "cell_type": "markdown",
      "source": [
        "Desarrolle la mayoría de ejercicios en clase. Para cada punto cree un programa individual. Al finalizar suba todo a un repo y subalo al canal reto_6 en slack."
      ],
      "metadata": {
        "id": "MlzGQjxEbewG"
      }
    },
    {
      "cell_type": "markdown",
      "source": [
        "1. Dado la figura de la imagen, desarrolle:\n",
        "<img style=\"display: block;-webkit-user-select: none;margin: auto;background-color: hsl(0, 0%, 90%);transition: background-color 300ms;\" src=\"https://camo.githubusercontent.com/9a79fe9629fff1ceecb5860dba4054b90da7acda3d4f2c9cd7f62a34799894d2/68747470733a2f2f692e706f7374696d672e63632f465276436d7078782f696d6167652e706e67\">\n",
        "*   Una función matemática para calcular el volumen y el área superficial.\n",
        "*   Cree dos funciones en python para calcular los valores antes establecidos, al ingresar por teclado r1, r2 y h.\n",
        "*   Revise como utilizar el valor de pi usando import math y math.pi\n"
      ],
      "metadata": {
        "id": "mYSqXARWaQj2"
      }
    },
    {
      "cell_type": "code",
      "source": [
        "import math\n",
        "\n",
        "def calcular_area_volumen(r1:float, r2:float, h:float):\n",
        "  volumen_esfera = (4 / 3) * math.pi * (r1 ** 3)\n",
        "  volumen_cono = (1 / 3) * math.pi * h * (r1 ** 2 + (r1 * r2) + r2 ** 2)\n",
        "  return volumen_esfera, volumen_cono\n",
        "\n",
        "def calcular_area_superficial(r1, r2, h):\n",
        "  area_esfera = 4 * math.pi * (r1 ** 2)\n",
        "  generatriz = math.sqrt(h ** 2 + (r1 - r2) ** 2)\n",
        "  area_cono_lateral = math.pi * (r1 + r2) * generatriz\n",
        "  area_base_cono = math.pi * r1 ** 2\n",
        "  return area_esfera + area_cono_lateral + area_base_cono\n",
        "\n",
        "r1 = float(input(\"Ingrese el radio de la esfera \"))\n",
        "r2 = float(input(\"Ingrese el radio del cono  \"))\n",
        "h = float(input(\"Ingrese la altura del cono \"))\n",
        "\n",
        "volumen_es, volumen_co = calcular_area_volumen(r1, r2, h)\n",
        "area_superficial = calcular_area_superficial(r1, r2, h)\n",
        "\n",
        "print(\"El volumen de la esfera es\", volumen_es)\n",
        "print(\"El volumen del cono es\", volumen_co)\n",
        "print(\"El área superficial total es\",area_superficial )"
      ],
      "metadata": {
        "id": "LgxwHUh6au0t",
        "colab": {
          "base_uri": "https://localhost:8080/"
        },
        "outputId": "7194c266-807b-4976-f867-9ed27debaa42"
      },
      "execution_count": null,
      "outputs": [
        {
          "output_type": "stream",
          "name": "stdout",
          "text": [
            "Ingrese el radio de la esfera (r1): 10\n",
            "Ingrese el radio del cono (r2): 8\n",
            "Ingrese la altura del cono (h): 5\n",
            "El volumen de la esfera es 4188.790204786391\n",
            "El volumen del cono es 1277.581012459849\n",
            "El área superficial total es 1875.3202223312496\n"
          ]
        }
      ]
    },
    {
      "cell_type": "code",
      "source": [
        "import math\n",
        "\n",
        "def geometria_del_solido(r1, r2, h):\n",
        "    def calculo_volumen():\n",
        "        volumen_esfera = (4 / 3) * math.pi * (r1 ** 3)\n",
        "        volumen_cono = (1 / 3) * math.pi * h * (r1 ** 2 + (r1 * r2) + r2 ** 2)\n",
        "\n",
        "        return volumen_esfera + volumen_cono\n",
        "\n",
        "    return calculo_volumen()\n",
        "\n",
        "def calcular_area_superficial(r1, r2, h):\n",
        "    area_esfera = 4 * math.pi * (r1 ** 2)\n",
        "    generatriz = math.sqrt(h ** 2 + (r1 - r2) ** 2)\n",
        "    area_cono_lateral = math.pi * (r1 + r2) * generatriz\n",
        "    area_base_cono = math.pi * r1 ** 2\n",
        "\n",
        "    return area_esfera + area_cono_lateral + area_base_cono\n",
        "\n",
        "def main():\n",
        "    r1 = float(input(\"Ingrese el radio de la esfera (r1): \"))\n",
        "    r2 = float(input(\"Ingrese el radio del cono (r2): \"))\n",
        "    h = float(input(\"Ingrese la altura del cono (h): \"))\n",
        "\n",
        "    volumen = geometria_del_solido(r1, r2, h)\n",
        "    area_superficial = calcular_area_superficial(r1, r2, h)\n",
        "\n",
        "    print(f\"Volumen total: {volumen:.2f} cm³\")\n",
        "    print(f\"Área superficial total: {area_superficial:.2f} cm²\")\n",
        "\n",
        "if __name__ == \"__main__\":\n",
        "    main()\n"
      ],
      "metadata": {
        "colab": {
          "base_uri": "https://localhost:8080/"
        },
        "id": "zWhIe_fdN_ET",
        "outputId": "1b829226-ed12-4bf8-eaf4-62858e55f0ff"
      },
      "execution_count": null,
      "outputs": [
        {
          "output_type": "stream",
          "name": "stdout",
          "text": [
            "Ingrese el radio de la esfera (r1): 10\n",
            "Ingrese el radio del cono (r2): 5\n",
            "Ingrese la altura del cono (h): 8\n",
            "Volumen total: 5654.87 cm³\n",
            "Área superficial total: 2015.36 cm²\n"
          ]
        }
      ]
    },
    {
      "cell_type": "markdown",
      "source": [
        "2. Dado la figura de la imagen, desarrolle:\n",
        "<img style=\"display: block;-webkit-user-select: none;margin: auto;background-color: hsl(0, 0%, 90%);transition: background-color 300ms;\" src=\"https://camo.githubusercontent.com/1e035694c4675debe6703e3771f67ff06d8da330997d02c3806aa2bd5936bc54/68747470733a2f2f692e706f7374696d672e63632f3174344d727a734c2f696d6167652e706e67\">\n",
        "\n",
        "\n",
        "* Una función matemática para calcular el área y el perimetro.\n",
        "* Cree dos funciones en python para calcular los valores antes establecidos, al ingresar por teclado r, a y b.\n",
        "* Revise como utilizar el valor de pi usando import math y math.pi\n"
      ],
      "metadata": {
        "id": "hRMf86XjbYwc"
      }
    },
    {
      "cell_type": "code",
      "execution_count": null,
      "metadata": {
        "colab": {
          "base_uri": "https://localhost:8080/"
        },
        "id": "S2oKwgG_aDMj",
        "outputId": "5338a643-df70-48c3-d043-29c517c20a31"
      },
      "outputs": [
        {
          "output_type": "stream",
          "name": "stdout",
          "text": [
            "Ingrese base del rectangulo:10\n",
            "Ingrese altura del rectangulo:5\n",
            "Ingrese radio de las circunferencias:5\n",
            "______________________________\n",
            "El area del rectagulo es 50.0\n",
            "El perimetro del rectagulo es 30.0\n",
            "El area de los circulo es 78.53981633974483\n",
            "El perimetro de los circulo es 31.41592653589793\n"
          ]
        }
      ],
      "source": [
        "import math\n",
        "\n",
        "def area_perimetro_rectangulo(base:float, altura:float) -> float:\n",
        "  area_rectangulo = base*altura\n",
        "  perimetro_rectangulo = base*2+altura*2\n",
        "  return area_rectangulo, perimetro_rectangulo\n",
        "\n",
        "def area_perimetro_circulo(radio:float) -> float:\n",
        "  area_circulo = math.pi*radio**2\n",
        "  perimetro_circulo = math.pi*radio*2\n",
        "  return area_circulo, perimetro_circulo\n",
        "\n",
        "if __name__ == \"__main__\":\n",
        "  base = float(input(\"Ingrese base del rectangulo:\"))\n",
        "  altura = float(input(\"Ingrese altura del rectangulo:\"))\n",
        "  radio = float(input(\"Ingrese radio de las circunferencias:\"))\n",
        "\n",
        "  area,perimetro_rec = area_perimetro_rectangulo(base, altura)\n",
        "  area_cir,perimetro_cir = area_perimetro_circulo(radio)\n",
        "  print(\"______________________________\")\n",
        "  print(\"El area del rectagulo es \" + str(area))\n",
        "  print(\"El perimetro del rectagulo es \" + str(perimetro_rec))\n",
        "  print(\"El area de los circulo es \" + str(area_cir))\n",
        "  print(\"El perimetro de los circulo es \" + str(perimetro_cir))"
      ]
    },
    {
      "cell_type": "markdown",
      "source": [
        "3. Diseñe una función que calcule la cantidad de carne de aves en kilos si se tienen N gallinas, M gallos y K pollitos cada uno pesando 6 kilos, 7 kilos y 1 kilo respectivamente.\n"
      ],
      "metadata": {
        "id": "lyd1w2xJdkcU"
      }
    },
    {
      "cell_type": "code",
      "source": [
        "peso_gallina : int = 6\n",
        "peso_gallos : int = 7\n",
        "peso_pollos : int = 1\n",
        "\n",
        "def cantidad_carne(gallo:float, gallina:float, pollos:float) -> float:\n",
        "  cantidad_carne = N*peso_gallina + M*peso_gallos + K*peso_pollos\n",
        "  return cantidad_carne\n",
        "\n",
        "N = int(input(\"Ingrese cantidad de gallinas \"))\n",
        "M = int(input(\"Ingrese cantidad de gallos \"))\n",
        "K = int(input(\"Ingrese cantidad de pollos \"))\n",
        "\n",
        "total_carne = cantidad_carne(N,M,K)\n",
        "print(\"La cantidad de carne en total es\", total_carne)"
      ],
      "metadata": {
        "colab": {
          "base_uri": "https://localhost:8080/"
        },
        "id": "RJMk1jrVnRB8",
        "outputId": "8b2ae100-6794-419c-b63b-7dba389839c3"
      },
      "execution_count": null,
      "outputs": [
        {
          "output_type": "stream",
          "name": "stdout",
          "text": [
            "Ingrese cantidad de gallinas2\n",
            "Ingrese cantidad de gallos2\n",
            "Ingrese cantidad de pollos2\n",
            "La cantidad de carne en total es 28\n"
          ]
        }
      ]
    },
    {
      "cell_type": "markdown",
      "source": [
        "\n",
        "4. Haga un programa que utilice una función para calcular el valor de un préstamo C usando interés compuesto del i por n meses.\n",
        "\n"
      ],
      "metadata": {
        "id": "YnZjXmo6dxyE"
      }
    },
    {
      "cell_type": "code",
      "source": [
        "def calcular_prestamo(C, i, n):\n",
        "    M = C * (1 + i * n)\n",
        "    return M\n",
        "C = float(input(\"Introduce el monto del préstamo (capital inicial): \"))\n",
        "i = float(input(\"Introduce la tasa de interés mensual (en porcentaje): \")) / 100  # Convertir a decimal\n",
        "n = int(input(\"Introduce el número de meses: \"))\n",
        "\n",
        "resultado = calcular_prestamo(C, i, n)\n",
        "print(\"El monto total a pagar después de meses es \" + str(resultado))"
      ],
      "metadata": {
        "colab": {
          "base_uri": "https://localhost:8080/"
        },
        "id": "4pc5d8Nxy0x2",
        "outputId": "2e27572c-9e97-47f8-fd41-971da9d46627"
      },
      "execution_count": null,
      "outputs": [
        {
          "output_type": "stream",
          "name": "stdout",
          "text": [
            "Introduce el monto del préstamo (capital inicial): 10\n",
            "Introduce la tasa de interés mensual (en porcentaje): 10\n",
            "Introduce el número de meses: 2\n",
            "El monto total a pagar después de meses es 12.0\n"
          ]
        }
      ]
    },
    {
      "cell_type": "markdown",
      "source": [
        "5. Escriba un programa que pida 5 números reales y calcule las siguientes operaciones usando una función para cada una:\n",
        "\n",
        "\n",
        "\n",
        "*   El promedio\n",
        "*   El promedio multiplicativo (multilplica todos y luego calcula la raíz de la cantidad de operandos)\n",
        "*   La potencia del mayor número elevado al menor número\n",
        "*   La raíz cúbica del menor número\n"
      ],
      "metadata": {
        "id": "_9E9quidxR0l"
      }
    },
    {
      "cell_type": "code",
      "source": [
        "def calcular_promedio(n1: float, n2:float, n3:float, n4:float, n5: float):\n",
        "  promedio = (n1+n2+n3+n4+n5)/5\n",
        "  return promedio\n",
        "\n",
        "def calcular_promedio_mul(n1: float, n2:float, n3:float, n4:float, n5: float):\n",
        "  promedio_mul = (n1*n2*n3*n4*n5)**(1/5)\n",
        "  return promedio_mul\n",
        "\n",
        "def calcular_potencia(n1: float, n2:float, n3:float, n4:float, n5: float):\n",
        "  mayor = max(n1,n2,n3,n4,n5)\n",
        "  menor = min(n1,n2,n3,n4,n5)\n",
        "  potencia = mayor**menor\n",
        "  return potencia\n",
        "\n",
        "def raiz_cubica(n1: float, n2:float, n3:float, n4:float, n5: float):\n",
        "  menor = min(n1,n2,n3,n4,n5)\n",
        "  raiz_cub = menor**3\n",
        "  return raiz_cub\n",
        "\n",
        "n1 = float(input(\"Ingrese numero\"))\n",
        "n2 = float(input(\"Ingrese numero\"))\n",
        "n3 = float(input(\"Ingrese numero\"))\n",
        "n4 = float(input(\"Ingrese numero\"))\n",
        "n5 = float(input(\"Ingrese numero\"))\n",
        "\n",
        "resultado_prom = calcular_promedio(n1,n2,n3,n4,n5)\n",
        "resultado_prom_mul = calcular_promedio_mul(n1,n2,n3,n4,n5)\n",
        "resultado_potencia = calcular_potencia(n1,n2,n3,n4,n5)\n",
        "resultado_raiz = raiz_cubica(n1,n2,n3,n4,n5)\n",
        "\n",
        "print(\"El promedio es\", resultado_prom)\n",
        "print(\"El promedio multiplicativo es\", resultado_prom_mul)\n",
        "print(\"La potencia del mayor número elevado al menor número es \",resultado_potencia)\n",
        "print(\"La raíz cúbica del menor número es \", resultado_raiz)"
      ],
      "metadata": {
        "colab": {
          "base_uri": "https://localhost:8080/"
        },
        "id": "b9HygxiDPrgT",
        "outputId": "ca776d3b-fa16-4714-b30e-15003416a65f"
      },
      "execution_count": null,
      "outputs": [
        {
          "output_type": "stream",
          "name": "stdout",
          "text": [
            "Ingrese numero56\n",
            "Ingrese numero86\n",
            "Ingrese numero78\n",
            "Ingrese numero45\n",
            "Ingrese numero98\n",
            "El promedio es 72.6\n",
            "El promedio multiplicativo es 69.79815358097609\n",
            "La potencia del mayor número elevado al menor número es  4.0287786427342553e+89\n",
            "La raíz cúbica del menor número es  91125.0\n"
          ]
        }
      ]
    }
  ]
}